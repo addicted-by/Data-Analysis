{
  "nbformat": 4,
  "nbformat_minor": 0,
  "metadata": {
    "colab": {
      "name": "Coursera(MIPT)_week4_course2_Naive_Bayes_Classifier.ipynb",
      "provenance": [],
      "toc_visible": true
    },
    "kernelspec": {
      "name": "python3",
      "display_name": "Python 3"
    },
    "language_info": {
      "name": "python"
    }
  },
  "cells": [
    {
      "cell_type": "markdown",
      "metadata": {
        "id": "2LATLq-Pa2FK"
      },
      "source": [
        "#Choosing the distribution family for Naive Bayes classifier"
      ]
    },
    {
      "cell_type": "markdown",
      "metadata": {
        "id": "8Gj3j1rAi9OP"
      },
      "source": [
        "##**Оглавление**\n",
        "\n",
        "-------------\n",
        "\n",
        "### [0. Импорт библиотек](#step0)\n",
        "\n",
        "###[1. Загрузка датасета digits и breast_cancer из sklearn.datasets](#step1)\n",
        "\n",
        "###[2. Подготовка матриц признаков X и ответов на обучающих выборках у](#step2)\n",
        "\n",
        "###[3. Сравнение качества работы наивных байесовских классификаторов на разных семействах распределений:](#step3)\n",
        "*   *BernoulliNB*\n",
        "*   *MultinomialNB*\n",
        "*   *GaussianNB*\n",
        "\n",
        "###[4. Ответы на вопросы задания.](#step4) \n"
      ]
    },
    {
      "cell_type": "markdown",
      "metadata": {
        "id": "5cOUTUGyj_tg"
      },
      "source": [
        "--------------"
      ]
    },
    {
      "cell_type": "markdown",
      "metadata": {
        "id": "aS0ljRiIkDXC"
      },
      "source": [
        "<a name = \"step0\"></a>\n",
        "\n",
        "#Импорт библиотек"
      ]
    },
    {
      "cell_type": "code",
      "metadata": {
        "id": "DBrkV7RekA_V"
      },
      "source": [
        "%matplotlib inline\n",
        "import matplotlib.pyplot as plt\n",
        "from sklearn import naive_bayes\n",
        "from sklearn.model_selection import cross_val_score\n",
        "from sklearn import datasets"
      ],
      "execution_count": 11,
      "outputs": []
    },
    {
      "cell_type": "markdown",
      "metadata": {
        "id": "KOmpaBZJlBUy"
      },
      "source": [
        "<a name = \"step1\"></a>\n",
        "#Загрузка датасетов\n",
        "с помощью функции load_digits и load_breast_cancer из sklearn.datasets."
      ]
    },
    {
      "cell_type": "code",
      "metadata": {
        "id": "BflUnb8Pa1Vi"
      },
      "source": [
        "digits = datasets.load_digits()\n",
        "breast_cancer = datasets.load_breast_cancer()"
      ],
      "execution_count": 4,
      "outputs": []
    },
    {
      "cell_type": "code",
      "metadata": {
        "colab": {
          "base_uri": "https://localhost:8080/",
          "height": 240
        },
        "id": "f8PfKYfCldHL",
        "outputId": "2a8d8591-c141-42e8-dd66-22e122c23c29"
      },
      "source": [
        "digits.DESCR"
      ],
      "execution_count": 5,
      "outputs": [
        {
          "output_type": "execute_result",
          "data": {
            "application/vnd.google.colaboratory.intrinsic+json": {
              "type": "string"
            },
            "text/plain": [
              "\".. _digits_dataset:\\n\\nOptical recognition of handwritten digits dataset\\n--------------------------------------------------\\n\\n**Data Set Characteristics:**\\n\\n    :Number of Instances: 5620\\n    :Number of Attributes: 64\\n    :Attribute Information: 8x8 image of integer pixels in the range 0..16.\\n    :Missing Attribute Values: None\\n    :Creator: E. Alpaydin (alpaydin '@' boun.edu.tr)\\n    :Date: July; 1998\\n\\nThis is a copy of the test set of the UCI ML hand-written digits datasets\\nhttps://archive.ics.uci.edu/ml/datasets/Optical+Recognition+of+Handwritten+Digits\\n\\nThe data set contains images of hand-written digits: 10 classes where\\neach class refers to a digit.\\n\\nPreprocessing programs made available by NIST were used to extract\\nnormalized bitmaps of handwritten digits from a preprinted form. From a\\ntotal of 43 people, 30 contributed to the training set and different 13\\nto the test set. 32x32 bitmaps are divided into nonoverlapping blocks of\\n4x4 and the number of on pixels are counted in each block. This generates\\nan input matrix of 8x8 where each element is an integer in the range\\n0..16. This reduces dimensionality and gives invariance to small\\ndistortions.\\n\\nFor info on NIST preprocessing routines, see M. D. Garris, J. L. Blue, G.\\nT. Candela, D. L. Dimmick, J. Geist, P. J. Grother, S. A. Janet, and C.\\nL. Wilson, NIST Form-Based Handprint Recognition System, NISTIR 5469,\\n1994.\\n\\n.. topic:: References\\n\\n  - C. Kaynak (1995) Methods of Combining Multiple Classifiers and Their\\n    Applications to Handwritten Digit Recognition, MSc Thesis, Institute of\\n    Graduate Studies in Science and Engineering, Bogazici University.\\n  - E. Alpaydin, C. Kaynak (1998) Cascading Classifiers, Kybernetika.\\n  - Ken Tang and Ponnuthurai N. Suganthan and Xi Yao and A. Kai Qin.\\n    Linear dimensionalityreduction using relevance weighted LDA. School of\\n    Electrical and Electronic Engineering Nanyang Technological University.\\n    2005.\\n  - Claudio Gentile. A New Approximate Maximal Margin Classification\\n    Algorithm. NIPS. 2000.\""
            ]
          },
          "metadata": {
            "tags": []
          },
          "execution_count": 5
        }
      ]
    },
    {
      "cell_type": "code",
      "metadata": {
        "colab": {
          "base_uri": "https://localhost:8080/",
          "height": 240
        },
        "id": "FbRTAw6Xlh09",
        "outputId": "7470cc35-1dc1-4647-c04d-1037fd04c741"
      },
      "source": [
        "breast_cancer.DESCR"
      ],
      "execution_count": 6,
      "outputs": [
        {
          "output_type": "execute_result",
          "data": {
            "application/vnd.google.colaboratory.intrinsic+json": {
              "type": "string"
            },
            "text/plain": [
              "'.. _breast_cancer_dataset:\\n\\nBreast cancer wisconsin (diagnostic) dataset\\n--------------------------------------------\\n\\n**Data Set Characteristics:**\\n\\n    :Number of Instances: 569\\n\\n    :Number of Attributes: 30 numeric, predictive attributes and the class\\n\\n    :Attribute Information:\\n        - radius (mean of distances from center to points on the perimeter)\\n        - texture (standard deviation of gray-scale values)\\n        - perimeter\\n        - area\\n        - smoothness (local variation in radius lengths)\\n        - compactness (perimeter^2 / area - 1.0)\\n        - concavity (severity of concave portions of the contour)\\n        - concave points (number of concave portions of the contour)\\n        - symmetry \\n        - fractal dimension (\"coastline approximation\" - 1)\\n\\n        The mean, standard error, and \"worst\" or largest (mean of the three\\n        largest values) of these features were computed for each image,\\n        resulting in 30 features.  For instance, field 3 is Mean Radius, field\\n        13 is Radius SE, field 23 is Worst Radius.\\n\\n        - class:\\n                - WDBC-Malignant\\n                - WDBC-Benign\\n\\n    :Summary Statistics:\\n\\n    ===================================== ====== ======\\n                                           Min    Max\\n    ===================================== ====== ======\\n    radius (mean):                        6.981  28.11\\n    texture (mean):                       9.71   39.28\\n    perimeter (mean):                     43.79  188.5\\n    area (mean):                          143.5  2501.0\\n    smoothness (mean):                    0.053  0.163\\n    compactness (mean):                   0.019  0.345\\n    concavity (mean):                     0.0    0.427\\n    concave points (mean):                0.0    0.201\\n    symmetry (mean):                      0.106  0.304\\n    fractal dimension (mean):             0.05   0.097\\n    radius (standard error):              0.112  2.873\\n    texture (standard error):             0.36   4.885\\n    perimeter (standard error):           0.757  21.98\\n    area (standard error):                6.802  542.2\\n    smoothness (standard error):          0.002  0.031\\n    compactness (standard error):         0.002  0.135\\n    concavity (standard error):           0.0    0.396\\n    concave points (standard error):      0.0    0.053\\n    symmetry (standard error):            0.008  0.079\\n    fractal dimension (standard error):   0.001  0.03\\n    radius (worst):                       7.93   36.04\\n    texture (worst):                      12.02  49.54\\n    perimeter (worst):                    50.41  251.2\\n    area (worst):                         185.2  4254.0\\n    smoothness (worst):                   0.071  0.223\\n    compactness (worst):                  0.027  1.058\\n    concavity (worst):                    0.0    1.252\\n    concave points (worst):               0.0    0.291\\n    symmetry (worst):                     0.156  0.664\\n    fractal dimension (worst):            0.055  0.208\\n    ===================================== ====== ======\\n\\n    :Missing Attribute Values: None\\n\\n    :Class Distribution: 212 - Malignant, 357 - Benign\\n\\n    :Creator:  Dr. William H. Wolberg, W. Nick Street, Olvi L. Mangasarian\\n\\n    :Donor: Nick Street\\n\\n    :Date: November, 1995\\n\\nThis is a copy of UCI ML Breast Cancer Wisconsin (Diagnostic) datasets.\\nhttps://goo.gl/U2Uwz2\\n\\nFeatures are computed from a digitized image of a fine needle\\naspirate (FNA) of a breast mass.  They describe\\ncharacteristics of the cell nuclei present in the image.\\n\\nSeparating plane described above was obtained using\\nMultisurface Method-Tree (MSM-T) [K. P. Bennett, \"Decision Tree\\nConstruction Via Linear Programming.\" Proceedings of the 4th\\nMidwest Artificial Intelligence and Cognitive Science Society,\\npp. 97-101, 1992], a classification method which uses linear\\nprogramming to construct a decision tree.  Relevant features\\nwere selected using an exhaustive search in the space of 1-4\\nfeatures and 1-3 separating planes.\\n\\nThe actual linear program used to obtain the separating plane\\nin the 3-dimensional space is that described in:\\n[K. P. Bennett and O. L. Mangasarian: \"Robust Linear\\nProgramming Discrimination of Two Linearly Inseparable Sets\",\\nOptimization Methods and Software 1, 1992, 23-34].\\n\\nThis database is also available through the UW CS ftp server:\\n\\nftp ftp.cs.wisc.edu\\ncd math-prog/cpo-dataset/machine-learn/WDBC/\\n\\n.. topic:: References\\n\\n   - W.N. Street, W.H. Wolberg and O.L. Mangasarian. Nuclear feature extraction \\n     for breast tumor diagnosis. IS&T/SPIE 1993 International Symposium on \\n     Electronic Imaging: Science and Technology, volume 1905, pages 861-870,\\n     San Jose, CA, 1993.\\n   - O.L. Mangasarian, W.N. Street and W.H. Wolberg. Breast cancer diagnosis and \\n     prognosis via linear programming. Operations Research, 43(4), pages 570-577, \\n     July-August 1995.\\n   - W.H. Wolberg, W.N. Street, and O.L. Mangasarian. Machine learning techniques\\n     to diagnose breast cancer from fine-needle aspirates. Cancer Letters 77 (1994) \\n     163-171.'"
            ]
          },
          "metadata": {
            "tags": []
          },
          "execution_count": 6
        }
      ]
    },
    {
      "cell_type": "code",
      "metadata": {
        "colab": {
          "base_uri": "https://localhost:8080/",
          "height": 401
        },
        "id": "69Fb1WuGlsen",
        "outputId": "158b54e2-24a8-4a20-fba3-6e2806ede0a3"
      },
      "source": [
        "plt.plot(digits.images[0])"
      ],
      "execution_count": 12,
      "outputs": [
        {
          "output_type": "execute_result",
          "data": {
            "text/plain": [
              "[<matplotlib.lines.Line2D at 0x7f9492cbf210>,\n",
              " <matplotlib.lines.Line2D at 0x7f9492cbf410>,\n",
              " <matplotlib.lines.Line2D at 0x7f9492cbf5d0>,\n",
              " <matplotlib.lines.Line2D at 0x7f9492cbf790>,\n",
              " <matplotlib.lines.Line2D at 0x7f9492cbf950>,\n",
              " <matplotlib.lines.Line2D at 0x7f9492cbfb10>,\n",
              " <matplotlib.lines.Line2D at 0x7f9492cbfd50>,\n",
              " <matplotlib.lines.Line2D at 0x7f9492cbff10>]"
            ]
          },
          "metadata": {
            "tags": []
          },
          "execution_count": 12
        },
        {
          "output_type": "display_data",
          "data": {
            "image/png": "[encoded data removed]",
            "text/plain": [
              "<Figure size 432x288 with 1 Axes>"
            ]
          },
          "metadata": {
            "tags": [],
            "needs_background": "light"
          }
        }
      ]
    },
    {
      "cell_type": "code",
      "metadata": {
        "colab": {
          "base_uri": "https://localhost:8080/",
          "height": 264
        },
        "id": "s2Eclb-Xl5Kh",
        "outputId": "4fdf34f7-f92e-453d-eb57-363aee9929d7"
      },
      "source": [
        "plt.plot(breast_cancer.data[:40])\n",
        "plt.show()"
      ],
      "execution_count": 20,
      "outputs": [
        {
          "output_type": "display_data",
          "data": {
            "image/png": "[encoded data removed]",
            "text/plain": [
              "<Figure size 432x288 with 1 Axes>"
            ]
          },
          "metadata": {
            "tags": [],
            "needs_background": "light"
          }
        }
      ]
    },
    {
      "cell_type": "code",
      "metadata": {
        "colab": {
          "base_uri": "https://localhost:8080/"
        },
        "id": "aRFb5fwZrWxm",
        "outputId": "65875441-3378-4c5e-f617-630c7cc8ca5a"
      },
      "source": [
        "digits.data[:2]"
      ],
      "execution_count": 34,
      "outputs": [
        {
          "output_type": "execute_result",
          "data": {
            "text/plain": [
              "array([[ 0.,  0.,  5., 13.,  9.,  1.,  0.,  0.,  0.,  0., 13., 15., 10.,\n",
              "        15.,  5.,  0.,  0.,  3., 15.,  2.,  0., 11.,  8.,  0.,  0.,  4.,\n",
              "        12.,  0.,  0.,  8.,  8.,  0.,  0.,  5.,  8.,  0.,  0.,  9.,  8.,\n",
              "         0.,  0.,  4., 11.,  0.,  1., 12.,  7.,  0.,  0.,  2., 14.,  5.,\n",
              "        10., 12.,  0.,  0.,  0.,  0.,  6., 13., 10.,  0.,  0.,  0.],\n",
              "       [ 0.,  0.,  0., 12., 13.,  5.,  0.,  0.,  0.,  0.,  0., 11., 16.,\n",
              "         9.,  0.,  0.,  0.,  0.,  3., 15., 16.,  6.,  0.,  0.,  0.,  7.,\n",
              "        15., 16., 16.,  2.,  0.,  0.,  0.,  0.,  1., 16., 16.,  3.,  0.,\n",
              "         0.,  0.,  0.,  1., 16., 16.,  6.,  0.,  0.,  0.,  0.,  1., 16.,\n",
              "        16.,  6.,  0.,  0.,  0.,  0.,  0., 11., 16., 10.,  0.,  0.]])"
            ]
          },
          "metadata": {
            "tags": []
          },
          "execution_count": 34
        }
      ]
    },
    {
      "cell_type": "code",
      "metadata": {
        "colab": {
          "base_uri": "https://localhost:8080/"
        },
        "id": "Uh8KaGjwrje1",
        "outputId": "4b747e80-bc06-44f3-ae30-c35778c02635"
      },
      "source": [
        "breast_cancer.data[:2]"
      ],
      "execution_count": 36,
      "outputs": [
        {
          "output_type": "execute_result",
          "data": {
            "text/plain": [
              "array([[1.799e+01, 1.038e+01, 1.228e+02, 1.001e+03, 1.184e-01, 2.776e-01,\n",
              "        3.001e-01, 1.471e-01, 2.419e-01, 7.871e-02, 1.095e+00, 9.053e-01,\n",
              "        8.589e+00, 1.534e+02, 6.399e-03, 4.904e-02, 5.373e-02, 1.587e-02,\n",
              "        3.003e-02, 6.193e-03, 2.538e+01, 1.733e+01, 1.846e+02, 2.019e+03,\n",
              "        1.622e-01, 6.656e-01, 7.119e-01, 2.654e-01, 4.601e-01, 1.189e-01],\n",
              "       [2.057e+01, 1.777e+01, 1.329e+02, 1.326e+03, 8.474e-02, 7.864e-02,\n",
              "        8.690e-02, 7.017e-02, 1.812e-01, 5.667e-02, 5.435e-01, 7.339e-01,\n",
              "        3.398e+00, 7.408e+01, 5.225e-03, 1.308e-02, 1.860e-02, 1.340e-02,\n",
              "        1.389e-02, 3.532e-03, 2.499e+01, 2.341e+01, 1.588e+02, 1.956e+03,\n",
              "        1.238e-01, 1.866e-01, 2.416e-01, 1.860e-01, 2.750e-01, 8.902e-02]])"
            ]
          },
          "metadata": {
            "tags": []
          },
          "execution_count": 36
        }
      ]
    },
    {
      "cell_type": "markdown",
      "metadata": {
        "id": "xsdG5HhKmMpe"
      },
      "source": [
        "<a name = \"step2\"></a>\n",
        "#Подготовка матриц признаков X и ответов на обучающих выборок y (поля data и target)"
      ]
    },
    {
      "cell_type": "code",
      "metadata": {
        "id": "EugHCf1YmIsw"
      },
      "source": [
        "X_digits = digits.data\n",
        "y_digits = digits.target\n",
        "\n",
        "X_breast_cancer = breast_cancer.data\n",
        "y_breast_cancer = breast_cancer.target"
      ],
      "execution_count": 23,
      "outputs": []
    },
    {
      "cell_type": "markdown",
      "metadata": {
        "id": "qEYBv5LRmpO_"
      },
      "source": [
        "<a name = \"step3\"></a>\n",
        "\n",
        "#Сравнение качества работы наивных байесовских классификаторов\n",
        "на разных семействах распределений\n",
        "*   *BernoulliNB*\n",
        "*   *MultinomialNB*\n",
        "*   *GaussianNB*"
      ]
    },
    {
      "cell_type": "code",
      "metadata": {
        "id": "PSPvJAHBmocl"
      },
      "source": [
        "Bernoulli = naive_bayes.BernoulliNB()\n",
        "Multinomial = naive_bayes.MultinomialNB()\n",
        "Gaussian = naive_bayes.GaussianNB()"
      ],
      "execution_count": 24,
      "outputs": []
    },
    {
      "cell_type": "markdown",
      "metadata": {
        "id": "Bx0ojdQ7pBGh"
      },
      "source": [
        "##*Для датасета digits*"
      ]
    },
    {
      "cell_type": "code",
      "metadata": {
        "colab": {
          "base_uri": "https://localhost:8080/"
        },
        "id": "Yhynvn6Snn7Y",
        "outputId": "2c469bb8-0a6a-43c5-b3b0-7aaab58e3f11"
      },
      "source": [
        "score_Bernoulli_digits = cross_val_score(Bernoulli, X_digits, y_digits)\n",
        "score_Bernoulli_digits.mean()"
      ],
      "execution_count": 26,
      "outputs": [
        {
          "output_type": "execute_result",
          "data": {
            "text/plain": [
              "0.8241736304549674"
            ]
          },
          "metadata": {
            "tags": []
          },
          "execution_count": 26
        }
      ]
    },
    {
      "cell_type": "code",
      "metadata": {
        "colab": {
          "base_uri": "https://localhost:8080/"
        },
        "id": "MrUPbAvDopbO",
        "outputId": "fc420d53-e8fe-411d-9eb3-015b312147c5"
      },
      "source": [
        "score_Multinomial_digits = cross_val_score(Multinomial, X_digits, y_digits)\n",
        "score_Multinomial_digits.mean()"
      ],
      "execution_count": 27,
      "outputs": [
        {
          "output_type": "execute_result",
          "data": {
            "text/plain": [
              "0.8703497369235531"
            ]
          },
          "metadata": {
            "tags": []
          },
          "execution_count": 27
        }
      ]
    },
    {
      "cell_type": "code",
      "metadata": {
        "colab": {
          "base_uri": "https://localhost:8080/"
        },
        "id": "5WDjRPBoo7l7",
        "outputId": "22b3abf8-ebe2-42e4-c55f-8497629c6e4f"
      },
      "source": [
        "score_Gaussian_digits = cross_val_score(Gaussian, X_digits, y_digits)\n",
        "score_Gaussian_digits.mean()"
      ],
      "execution_count": 28,
      "outputs": [
        {
          "output_type": "execute_result",
          "data": {
            "text/plain": [
              "0.8069281956050759"
            ]
          },
          "metadata": {
            "tags": []
          },
          "execution_count": 28
        }
      ]
    },
    {
      "cell_type": "markdown",
      "metadata": {
        "id": "fEwMOAiwpULt"
      },
      "source": [
        "##*Для датасета breast_cancer*"
      ]
    },
    {
      "cell_type": "code",
      "metadata": {
        "colab": {
          "base_uri": "https://localhost:8080/"
        },
        "id": "mizqN29cpdgl",
        "outputId": "e4ae9ddc-8c0d-407d-9ae1-846fcdd0eb52"
      },
      "source": [
        "score_Bernoulli_breast_cancer = cross_val_score(Bernoulli, X_breast_cancer, y_breast_cancer)\n",
        "score_Bernoulli_breast_cancer.mean()"
      ],
      "execution_count": 29,
      "outputs": [
        {
          "output_type": "execute_result",
          "data": {
            "text/plain": [
              "0.6274181027790716"
            ]
          },
          "metadata": {
            "tags": []
          },
          "execution_count": 29
        }
      ]
    },
    {
      "cell_type": "code",
      "metadata": {
        "colab": {
          "base_uri": "https://localhost:8080/"
        },
        "id": "b0jLd_dCpnsD",
        "outputId": "29bf8e89-364e-491f-fb92-7892e6b55469"
      },
      "source": [
        "score_Multinomial_breast_cancer = cross_val_score(Multinomial, X_breast_cancer, y_breast_cancer)\n",
        "score_Multinomial_breast_cancer.mean()"
      ],
      "execution_count": 30,
      "outputs": [
        {
          "output_type": "execute_result",
          "data": {
            "text/plain": [
              "0.8963204471355379"
            ]
          },
          "metadata": {
            "tags": []
          },
          "execution_count": 30
        }
      ]
    },
    {
      "cell_type": "code",
      "metadata": {
        "colab": {
          "base_uri": "https://localhost:8080/"
        },
        "id": "5sBl2NgrpuxH",
        "outputId": "abbbd0cf-c336-428c-b0c6-b5c88d78e95d"
      },
      "source": [
        "score_Gaussian_breast_cancer = cross_val_score(Gaussian, X_breast_cancer, y_breast_cancer)\n",
        "score_Gaussian_breast_cancer.mean()"
      ],
      "execution_count": 31,
      "outputs": [
        {
          "output_type": "execute_result",
          "data": {
            "text/plain": [
              "0.9385188635305075"
            ]
          },
          "metadata": {
            "tags": []
          },
          "execution_count": 31
        }
      ]
    },
    {
      "cell_type": "markdown",
      "metadata": {
        "id": "iPmr45vuqQBH"
      },
      "source": [
        "<a name = \"step4\"></a>\n",
        "#Ответы на вопросы задания\n",
        "\n",
        "*  Вопрос 1:\n",
        "\n",
        "Каким получилось максимальное качество классификации на датасете breast_cancer?\n",
        "*  Вопрос 2:\n",
        "\n",
        "Каким получилось максимальное качество классификации на датасете digits?\n",
        "*   Вопрос 3:\n",
        "\n",
        "Выберите верные утверждения и запишите их номера через пробел (в порядке возрастания номера):\n",
        "\n",
        "1.   ~~На вещественных признаках лучше всего сработал байесовский классификатор с распределением Бернулли~~\n",
        "2.   ~~На вещественных признаках лучше всего сработал наивный байесовский классификатор с мультиномиальным распределением.~~\n",
        "3.  Мультиномиальное распределение лучше показало себя на выборке с целыми неотрицательными значениями признаков\n",
        "4.  На вещественных признаках лучше всего сработало нормальное распределение\n"
      ]
    },
    {
      "cell_type": "code",
      "metadata": {
        "id": "qmLvRABAr0wQ"
      },
      "source": [
        "with open(\"answer1.txt\", \"w\") as fout:\n",
        "  fout.write(str(score_Gaussian_breast_cancer.mean()))\n",
        "\n",
        "with open(\"answer2.txt\", \"w\") as fout:\n",
        "  fout.write(str(score_Multinomial_digits.mean()))\n",
        "\n",
        "with open(\"answer3.txt\", \"w\") as fout:\n",
        "  fout.write(str(3) + str(4))"
      ],
      "execution_count": 38,
      "outputs": []
    }
  ]
}