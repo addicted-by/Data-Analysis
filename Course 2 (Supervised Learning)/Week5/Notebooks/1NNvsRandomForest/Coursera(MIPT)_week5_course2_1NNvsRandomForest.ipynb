{
  "nbformat": 4,
  "nbformat_minor": 0,
  "metadata": {
    "colab": {
      "name": "Coursera(MIPT)_week5_course2_1NNvsRandomForest.ipynb",
      "provenance": [],
      "toc_visible": true
    },
    "kernelspec": {
      "name": "python3",
      "display_name": "Python 3"
    },
    "language_info": {
      "name": "python"
    }
  },
  "cells": [
    {
      "cell_type": "markdown",
      "metadata": {
        "id": "O6yibnA5HZGj"
      },
      "source": [
        "#1NN vs RandomForest\n",
        "\n"
      ]
    },
    {
      "cell_type": "markdown",
      "metadata": {
        "id": "29UxSunUHsl-"
      },
      "source": [
        "##**Оглавление**"
      ]
    },
    {
      "cell_type": "markdown",
      "metadata": {
        "id": "cjbQ4-tzH-8J"
      },
      "source": [
        "----------------\n",
        "### [0. Импорт библиотек](#step0)\n",
        "\n",
        "###[1. Загрузка датасета digits из sklearn.datasets](#step1)\n",
        "\n",
        "###[2. Разделение матрицы признаков X и вектора ответов y на обучающую выборку и контроль качества (75:25)](#step2)\n",
        "\n",
        "###[3. Реализация метода ближайшего соседа](#step3)\n",
        "\n",
        "###[4. Сравнение качества работы реализованного 1NN с RamdomForest из sklearn](#step4) \n",
        "------------"
      ]
    },
    {
      "cell_type": "markdown",
      "metadata": {
        "id": "WwWo_gxcIyk9"
      },
      "source": [
        "<a name = \"step0\"></a>\n",
        "#Импорт библиотек"
      ]
    },
    {
      "cell_type": "code",
      "metadata": {
        "id": "diZh4mp0HWsC"
      },
      "source": [
        "import numpy as np\n",
        "from sklearn import datasets\n",
        "from sklearn.model_selection import train_test_split, cross_val_score\n",
        "from sklearn import metrics\n",
        "from sklearn.tree import DecisionTreeClassifier\n",
        "from sklearn.ensemble import RandomForestClassifier\n",
        "from sklearn.neighbors import KNeighborsClassifier"
      ],
      "execution_count": 24,
      "outputs": []
    },
    {
      "cell_type": "markdown",
      "metadata": {
        "id": "zfQVQT_7JhFK"
      },
      "source": [
        "<a name = \"step1\"></a>\n",
        "\n",
        "#Загрузка датасета\n",
        "с помощью функции load_digits из sklearn.datasets"
      ]
    },
    {
      "cell_type": "code",
      "metadata": {
        "colab": {
          "base_uri": "https://localhost:8080/",
          "height": 240
        },
        "id": "r86csZP7KFAg",
        "outputId": "64c98b5e-a939-4eaa-e945-5ccdc27f68ea"
      },
      "source": [
        "digits = datasets.load_digits()\n",
        "digits.DESCR"
      ],
      "execution_count": 2,
      "outputs": [
        {
          "output_type": "execute_result",
          "data": {
            "application/vnd.google.colaboratory.intrinsic+json": {
              "type": "string"
            },
            "text/plain": [
              "\".. _digits_dataset:\\n\\nOptical recognition of handwritten digits dataset\\n--------------------------------------------------\\n\\n**Data Set Characteristics:**\\n\\n    :Number of Instances: 5620\\n    :Number of Attributes: 64\\n    :Attribute Information: 8x8 image of integer pixels in the range 0..16.\\n    :Missing Attribute Values: None\\n    :Creator: E. Alpaydin (alpaydin '@' boun.edu.tr)\\n    :Date: July; 1998\\n\\nThis is a copy of the test set of the UCI ML hand-written digits datasets\\nhttps://archive.ics.uci.edu/ml/datasets/Optical+Recognition+of+Handwritten+Digits\\n\\nThe data set contains images of hand-written digits: 10 classes where\\neach class refers to a digit.\\n\\nPreprocessing programs made available by NIST were used to extract\\nnormalized bitmaps of handwritten digits from a preprinted form. From a\\ntotal of 43 people, 30 contributed to the training set and different 13\\nto the test set. 32x32 bitmaps are divided into nonoverlapping blocks of\\n4x4 and the number of on pixels are counted in each block. This generates\\nan input matrix of 8x8 where each element is an integer in the range\\n0..16. This reduces dimensionality and gives invariance to small\\ndistortions.\\n\\nFor info on NIST preprocessing routines, see M. D. Garris, J. L. Blue, G.\\nT. Candela, D. L. Dimmick, J. Geist, P. J. Grother, S. A. Janet, and C.\\nL. Wilson, NIST Form-Based Handprint Recognition System, NISTIR 5469,\\n1994.\\n\\n.. topic:: References\\n\\n  - C. Kaynak (1995) Methods of Combining Multiple Classifiers and Their\\n    Applications to Handwritten Digit Recognition, MSc Thesis, Institute of\\n    Graduate Studies in Science and Engineering, Bogazici University.\\n  - E. Alpaydin, C. Kaynak (1998) Cascading Classifiers, Kybernetika.\\n  - Ken Tang and Ponnuthurai N. Suganthan and Xi Yao and A. Kai Qin.\\n    Linear dimensionalityreduction using relevance weighted LDA. School of\\n    Electrical and Electronic Engineering Nanyang Technological University.\\n    2005.\\n  - Claudio Gentile. A New Approximate Maximal Margin Classification\\n    Algorithm. NIPS. 2000.\""
            ]
          },
          "metadata": {
            "tags": []
          },
          "execution_count": 2
        }
      ]
    },
    {
      "cell_type": "markdown",
      "metadata": {
        "id": "fbNp9kZ9OjWH"
      },
      "source": [
        "<a name = \"step2\"></a>\n",
        "\n",
        "#Разделение датасета на обучающую выборку и контроль качества"
      ]
    },
    {
      "cell_type": "code",
      "metadata": {
        "id": "QM22BRouKVvc"
      },
      "source": [
        "X_train, X_test = np.split(digits.data, [int(0.75 * digits.data.shape[0]) + 1])\n",
        "y_train, y_test = np.split(digits.target, [int(0.75 * digits.data.shape[0]) + 1])"
      ],
      "execution_count": 3,
      "outputs": []
    },
    {
      "cell_type": "markdown",
      "metadata": {
        "id": "Z-aNFmSEKVI4"
      },
      "source": [
        "<a name = \"step3\"></a>\n",
        "#Реализация метода ближайшего соседа"
      ]
    },
    {
      "cell_type": "markdown",
      "metadata": {
        "id": "tf4Mm4YXKENA"
      },
      "source": [
        "Метрика"
      ]
    },
    {
      "cell_type": "code",
      "metadata": {
        "id": "-K6DbkW3LZBO"
      },
      "source": [
        "def Euclidian(x, y):\n",
        "  return np.sqrt(np.sum((x-y)**2))"
      ],
      "execution_count": 9,
      "outputs": []
    },
    {
      "cell_type": "markdown",
      "metadata": {
        "id": "RSy2s4xlMF-P"
      },
      "source": [
        "Реализация 1NN"
      ]
    },
    {
      "cell_type": "code",
      "metadata": {
        "id": "H-T-c9WeKoWj"
      },
      "source": [
        "y_1nn = []\n",
        "for x in X_test:\n",
        "  index = 0\n",
        "  min_r = Euclidian(x, X_train[0])\n",
        "  for i, x_train in enumerate(X_train):\n",
        "    r = Euclidian(x, x_train)\n",
        "    if r < min_r:\n",
        "      min_r = r\n",
        "      index = i\n",
        "  y_1nn.append(y_train[index])"
      ],
      "execution_count": 12,
      "outputs": []
    },
    {
      "cell_type": "markdown",
      "metadata": {
        "id": "FTyIduX1MdD7"
      },
      "source": [
        "Ошибка"
      ]
    },
    {
      "cell_type": "code",
      "metadata": {
        "colab": {
          "base_uri": "https://localhost:8080/"
        },
        "id": "MOJrPoavMtgd",
        "outputId": "b0d204e2-8581-490a-a407-b198d62ebe6c"
      },
      "source": [
        "err = 1 - metrics.accuracy_score(y_1nn, y_test)\n",
        "err"
      ],
      "execution_count": 14,
      "outputs": [
        {
          "output_type": "execute_result",
          "data": {
            "text/plain": [
              "0.03786191536748329"
            ]
          },
          "metadata": {
            "tags": []
          },
          "execution_count": 14
        }
      ]
    },
    {
      "cell_type": "code",
      "metadata": {
        "id": "LrEcsz4VM_Vf"
      },
      "source": [
        "with open(\"answer1.txt\", \"w\") as fout:\n",
        "  fout.write(str(err))"
      ],
      "execution_count": 28,
      "outputs": []
    },
    {
      "cell_type": "markdown",
      "metadata": {
        "id": "TijpV5wkNHEg"
      },
      "source": [
        "Сравнение с KNeighboursClassifier из sklearn.neighbours"
      ]
    },
    {
      "cell_type": "code",
      "metadata": {
        "colab": {
          "base_uri": "https://localhost:8080/"
        },
        "id": "p_wRM9cANM-k",
        "outputId": "4e20ba00-de8a-4021-b3c5-1a22a5b3716d"
      },
      "source": [
        "nn1 = KNeighborsClassifier(n_neighbors=1, algorithm=\"kd_tree\")\n",
        "nn1.fit(X_train, y_train)\n",
        "y_new = nn1.predict(X_test)\n",
        "err_new = 1 - metrics.accuracy_score(y_new, y_test)\n",
        "err_new"
      ],
      "execution_count": 22,
      "outputs": [
        {
          "output_type": "execute_result",
          "data": {
            "text/plain": [
              "0.03786191536748329"
            ]
          },
          "metadata": {
            "tags": []
          },
          "execution_count": 22
        }
      ]
    },
    {
      "cell_type": "markdown",
      "metadata": {
        "id": "uam8cLDJOwGV"
      },
      "source": [
        "<a name = \"step4\"></a>\n",
        "#Сравнение качества работы\n",
        "реализованного 1NN с RamdomForest из sklearn"
      ]
    },
    {
      "cell_type": "code",
      "metadata": {
        "colab": {
          "base_uri": "https://localhost:8080/"
        },
        "id": "ZKMynmLEO4Ft",
        "outputId": "b8752c4c-30fc-49de-8e7d-4deda7fffbe5"
      },
      "source": [
        "rf = RandomForestClassifier(n_estimators=1000)\n",
        "rf.fit(X_train, y_train)"
      ],
      "execution_count": 25,
      "outputs": [
        {
          "output_type": "execute_result",
          "data": {
            "text/plain": [
              "RandomForestClassifier(bootstrap=True, ccp_alpha=0.0, class_weight=None,\n",
              "                       criterion='gini', max_depth=None, max_features='auto',\n",
              "                       max_leaf_nodes=None, max_samples=None,\n",
              "                       min_impurity_decrease=0.0, min_impurity_split=None,\n",
              "                       min_samples_leaf=1, min_samples_split=2,\n",
              "                       min_weight_fraction_leaf=0.0, n_estimators=1000,\n",
              "                       n_jobs=None, oob_score=False, random_state=None,\n",
              "                       verbose=0, warm_start=False)"
            ]
          },
          "metadata": {
            "tags": []
          },
          "execution_count": 25
        }
      ]
    },
    {
      "cell_type": "code",
      "metadata": {
        "colab": {
          "base_uri": "https://localhost:8080/"
        },
        "id": "VyHQKzqIPdQu",
        "outputId": "0261a74a-aad7-436f-d612-8db1ebd3c523"
      },
      "source": [
        "y_rf = rf.predict(X_test)\n",
        "err_rf = 1 - metrics.accuracy_score(y_rf, y_test)\n",
        "err_rf"
      ],
      "execution_count": 26,
      "outputs": [
        {
          "output_type": "execute_result",
          "data": {
            "text/plain": [
              "0.06904231625835189"
            ]
          },
          "metadata": {
            "tags": []
          },
          "execution_count": 26
        }
      ]
    },
    {
      "cell_type": "code",
      "metadata": {
        "id": "hZiRoqk5PpXT"
      },
      "source": [
        "with open(\"answer2.txt\", \"w\") as fout:\n",
        "  fout.write(str(err_rf))"
      ],
      "execution_count": 27,
      "outputs": []
    }
  ]
}