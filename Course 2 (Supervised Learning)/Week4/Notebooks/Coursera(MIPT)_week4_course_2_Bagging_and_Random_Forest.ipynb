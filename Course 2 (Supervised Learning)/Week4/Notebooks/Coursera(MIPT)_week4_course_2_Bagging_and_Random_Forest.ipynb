{
  "nbformat": 4,
  "nbformat_minor": 0,
  "metadata": {
    "colab": {
      "name": "Bagging and Random Forest.ipynb",
      "provenance": [],
      "toc_visible": true,
      "authorship_tag": "ABX9TyMw5N+bDMgms2aU7U13D6vC"
    },
    "kernelspec": {
      "name": "python3",
      "display_name": "Python 3"
    },
    "language_info": {
      "name": "python"
    }
  },
  "cells": [
    {
      "cell_type": "markdown",
      "metadata": {
        "id": "M0kT7qCnpfJ7"
      },
      "source": [
        "# Bagging and Random Forest (Week 4. Home task 1)\n",
        "\n",
        "\n",
        "##**Оглавление**\n",
        "\n",
        "-------------\n",
        "\n",
        "### [0. Импорт библиотек](#step0)\n",
        "\n",
        "###[1. Загрузка датасета digits из sklearn.datasets](#step1)\n",
        "\n",
        "###[2. Подготовка матрицы признаков X и ответов на обучающей выборке у](#step2)\n",
        "\n",
        "###[3. Создание DecisionTreeClassifier с настройками по умолчанию](#step3)\n",
        "*   Измерение качества его работы с помощью cross_val_score.\n",
        "*   Ответ на первое задание\n",
        "\n",
        "###[4. Обучение бэггинга над DecisionTreeClassifier.](#step4) \n",
        "*  Измерение качества квалификации новой модели\n",
        "*  Ответ на второе задание\n",
        "\n",
        "###[5. Подбор параметров BaggingClassifier такими, чтобы каждый базовый алгоритм обучался не на всех признаках $d$, а на $\\sqrt{d}$ признаков](#step5)\n",
        "*  Измерение качества квалификации новой модели\n",
        "*  Ответ на третье задание\n",
        "\n",
        "###[6. Выбор случайных признаков при построении каждой вершины](#step6)\n",
        "*  Измерение качества квалификации новой модели\n",
        "*  Ответ на четвертое задание\n",
        "\n",
        "###[7. Полученный в пункте 6 классификатор - Random Forest. Сравнить с RandomForestClassifier из sklearn.ensemble.](#step7)\n",
        "\n",
        "###[8. Ответ на задание 5.](#step8)"
      ]
    },
    {
      "cell_type": "markdown",
      "metadata": {
        "id": "GDkN6nDPumgO"
      },
      "source": [
        "---------------"
      ]
    },
    {
      "cell_type": "markdown",
      "metadata": {
        "id": "VH67nmD0uSHA"
      },
      "source": [
        "<a name = \"step0\"></a>\n",
        "\n",
        "#Импорт библиотек"
      ]
    },
    {
      "cell_type": "code",
      "metadata": {
        "id": "nqPyR8aSpTUP"
      },
      "source": [
        "%matplotlib inline\n",
        "import matplotlib.pyplot as plt\n",
        "\n",
        "import sklearn\n",
        "import numpy as np\n",
        "import seaborn as sns\n",
        "\n",
        "from sklearn import datasets\n",
        "from sklearn.model_selection import cross_val_score, validation_curve\n",
        "from sklearn.tree import DecisionTreeClassifier\n",
        "from sklearn.ensemble import BaggingClassifier, RandomForestClassifier"
      ],
      "execution_count": 35,
      "outputs": []
    },
    {
      "cell_type": "markdown",
      "metadata": {
        "id": "ivIfp2sF1Lgx"
      },
      "source": [
        "<a name = \"step1\"></a>\n",
        "# Загрузка датасета digits \n",
        "с помощью функции load_digits из sklearn.datasets."
      ]
    },
    {
      "cell_type": "code",
      "metadata": {
        "colab": {
          "base_uri": "https://localhost:8080/",
          "height": 0
        },
        "id": "U9BTBKnI1dp7",
        "outputId": "075939df-e949-4179-beaa-09cdd285b936"
      },
      "source": [
        "data = datasets.load_digits()\n",
        "data.DESCR"
      ],
      "execution_count": 36,
      "outputs": [
        {
          "output_type": "execute_result",
          "data": {
            "application/vnd.google.colaboratory.intrinsic+json": {
              "type": "string"
            },
            "text/plain": [
              "\".. _digits_dataset:\\n\\nOptical recognition of handwritten digits dataset\\n--------------------------------------------------\\n\\n**Data Set Characteristics:**\\n\\n    :Number of Instances: 5620\\n    :Number of Attributes: 64\\n    :Attribute Information: 8x8 image of integer pixels in the range 0..16.\\n    :Missing Attribute Values: None\\n    :Creator: E. Alpaydin (alpaydin '@' boun.edu.tr)\\n    :Date: July; 1998\\n\\nThis is a copy of the test set of the UCI ML hand-written digits datasets\\nhttps://archive.ics.uci.edu/ml/datasets/Optical+Recognition+of+Handwritten+Digits\\n\\nThe data set contains images of hand-written digits: 10 classes where\\neach class refers to a digit.\\n\\nPreprocessing programs made available by NIST were used to extract\\nnormalized bitmaps of handwritten digits from a preprinted form. From a\\ntotal of 43 people, 30 contributed to the training set and different 13\\nto the test set. 32x32 bitmaps are divided into nonoverlapping blocks of\\n4x4 and the number of on pixels are counted in each block. This generates\\nan input matrix of 8x8 where each element is an integer in the range\\n0..16. This reduces dimensionality and gives invariance to small\\ndistortions.\\n\\nFor info on NIST preprocessing routines, see M. D. Garris, J. L. Blue, G.\\nT. Candela, D. L. Dimmick, J. Geist, P. J. Grother, S. A. Janet, and C.\\nL. Wilson, NIST Form-Based Handprint Recognition System, NISTIR 5469,\\n1994.\\n\\n.. topic:: References\\n\\n  - C. Kaynak (1995) Methods of Combining Multiple Classifiers and Their\\n    Applications to Handwritten Digit Recognition, MSc Thesis, Institute of\\n    Graduate Studies in Science and Engineering, Bogazici University.\\n  - E. Alpaydin, C. Kaynak (1998) Cascading Classifiers, Kybernetika.\\n  - Ken Tang and Ponnuthurai N. Suganthan and Xi Yao and A. Kai Qin.\\n    Linear dimensionalityreduction using relevance weighted LDA. School of\\n    Electrical and Electronic Engineering Nanyang Technological University.\\n    2005.\\n  - Claudio Gentile. A New Approximate Maximal Margin Classification\\n    Algorithm. NIPS. 2000.\""
            ]
          },
          "metadata": {
            "tags": []
          },
          "execution_count": 36
        }
      ]
    },
    {
      "cell_type": "code",
      "metadata": {
        "colab": {
          "base_uri": "https://localhost:8080/",
          "height": 0
        },
        "id": "vc9Z1Iiq1xhx",
        "outputId": "4bab2986-ea14-42ab-8380-77d1a654df5c"
      },
      "source": [
        "plt.plot(data.images[0])"
      ],
      "execution_count": 37,
      "outputs": [
        {
          "output_type": "execute_result",
          "data": {
            "text/plain": [
              "[<matplotlib.lines.Line2D at 0x7f0d7be3bf10>,\n",
              " <matplotlib.lines.Line2D at 0x7f0d7b2d5150>,\n",
              " <matplotlib.lines.Line2D at 0x7f0d7b2d5310>,\n",
              " <matplotlib.lines.Line2D at 0x7f0d7b2d54d0>,\n",
              " <matplotlib.lines.Line2D at 0x7f0d7b2d5690>,\n",
              " <matplotlib.lines.Line2D at 0x7f0d7b2d5850>,\n",
              " <matplotlib.lines.Line2D at 0x7f0d7b2d5a90>,\n",
              " <matplotlib.lines.Line2D at 0x7f0d7b2d5c50>]"
            ]
          },
          "metadata": {
            "tags": []
          },
          "execution_count": 37
        },
        {
          "output_type": "display_data",
          "data": {
            "image/png": "[encoded data removed]",
            "text/plain": [
              "<Figure size 432x288 with 1 Axes>"
            ]
          },
          "metadata": {
            "tags": [],
            "needs_background": "light"
          }
        }
      ]
    },
    {
      "cell_type": "markdown",
      "metadata": {
        "id": "KJCzPAuW16wA"
      },
      "source": [
        "<a name = \"step2\"></a>\n",
        "#Подготовка матрицы признаков X и ответов на обучающей выборке у (поля data и target)"
      ]
    },
    {
      "cell_type": "code",
      "metadata": {
        "id": "jYHbf0MW2Ild"
      },
      "source": [
        "X = data.data\n",
        "y = data.target"
      ],
      "execution_count": 39,
      "outputs": []
    },
    {
      "cell_type": "markdown",
      "metadata": {
        "id": "0ar12DII2bj_"
      },
      "source": [
        "Для оценки качества далее нужно использовать cross_val_score из sklearn.model_selection с параметром cv=10. Эта функция реализует k-fold cross validation c k равным значению параметра cv. На практике часто хватает k=5, но в данной работе использовано k = 10, чтобы полученные оценки качества имели небольшой разброс, и было проще проверить полученные ответы. Функция cross_val_score возвращает numpy.ndarray, в котором будет k чисел - качество в каждом из k экспериментов k-fold cross validation. Для получения среднего значения (которое и будет оценкой качества работы) вызывается метод .mean() у массива, который возвращает cross_val_score.\n",
        "\n",
        "Для ускорения вычисления cross_val_score следует использовать параметр n_jobs, но нужно быть осторожным: в одной из старых версий sklearn была ошибка, которая приводила к неверному результату работы cross_val_score при задании n_jobs отличным от 1. Сейчас такой проблемы возникнуть не должно, но проверить, что все в порядке, не будет лишним."
      ]
    },
    {
      "cell_type": "markdown",
      "metadata": {
        "id": "caDEi69h3RWa"
      },
      "source": [
        "<a name = \"step3\"></a>\n",
        "# Создание DesicionTreeClassifier с настройками по умолчанию"
      ]
    },
    {
      "cell_type": "code",
      "metadata": {
        "colab": {
          "base_uri": "https://localhost:8080/"
        },
        "id": "q9NoYacn3OZj",
        "outputId": "e5e3e69c-2548-4b5e-eb27-654702b24f4f"
      },
      "source": [
        "dt_classifier = DecisionTreeClassifier()\n",
        "#измерение качества модели\n",
        "cvs = cross_val_score(dt_classifier, X, y, cv = 10)\n",
        "cvs"
      ],
      "execution_count": 40,
      "outputs": [
        {
          "output_type": "execute_result",
          "data": {
            "text/plain": [
              "array([0.78888889, 0.82777778, 0.83333333, 0.8       , 0.77777778,\n",
              "       0.88888889, 0.87222222, 0.82122905, 0.82681564, 0.81564246])"
            ]
          },
          "metadata": {
            "tags": []
          },
          "execution_count": 40
        }
      ]
    },
    {
      "cell_type": "code",
      "metadata": {
        "colab": {
          "base_uri": "https://localhost:8080/"
        },
        "id": "bU1oJMsU4A3m",
        "outputId": "f845f01c-19f8-467a-b615-0df18df592f4"
      },
      "source": [
        "cvs.mean()"
      ],
      "execution_count": 41,
      "outputs": [
        {
          "output_type": "execute_result",
          "data": {
            "text/plain": [
              "0.8252576039726878"
            ]
          },
          "metadata": {
            "tags": []
          },
          "execution_count": 41
        }
      ]
    },
    {
      "cell_type": "code",
      "metadata": {
        "id": "m1gVPdHz4G15"
      },
      "source": [
        "with open(\"answer1.txt\", \"w\") as fout:\n",
        "  fout.write(str(cvs.mean()))"
      ],
      "execution_count": 42,
      "outputs": []
    },
    {
      "cell_type": "markdown",
      "metadata": {
        "id": "nF7c0dOS4fRO"
      },
      "source": [
        "<a name = \"step4\"></a>\n",
        "# Воспользуемся BaggingClassifier из sklearn.ensemble, чтобы обучить бэггинг над DesicionTreeClassifier.\n",
        " Используем в BaggingClassifier параметры по умолчанию, задав только количество деревьев равным 100."
      ]
    },
    {
      "cell_type": "code",
      "metadata": {
        "colab": {
          "base_uri": "https://localhost:8080/"
        },
        "id": "cVekyGS-458m",
        "outputId": "3053aa8d-0e6a-43ea-8d0c-fdc9560c034c"
      },
      "source": [
        "bagging = BaggingClassifier(dt_classifier, n_estimators=100)\n",
        "#измерение качества модели\n",
        "cvs_bagging = cross_val_score(bagging, X, y, cv = 10)\n",
        "cvs_bagging"
      ],
      "execution_count": 43,
      "outputs": [
        {
          "output_type": "execute_result",
          "data": {
            "text/plain": [
              "array([0.87222222, 0.95      , 0.91111111, 0.92222222, 0.92222222,\n",
              "       0.98333333, 0.95555556, 0.89944134, 0.89385475, 0.91061453])"
            ]
          },
          "metadata": {
            "tags": []
          },
          "execution_count": 43
        }
      ]
    },
    {
      "cell_type": "code",
      "metadata": {
        "colab": {
          "base_uri": "https://localhost:8080/"
        },
        "id": "NvqmrYsU5Xb_",
        "outputId": "f964d104-746d-447f-ea93-0ac740e4134d"
      },
      "source": [
        "cvs_bagging.mean()"
      ],
      "execution_count": 44,
      "outputs": [
        {
          "output_type": "execute_result",
          "data": {
            "text/plain": [
              "0.9220577281191804"
            ]
          },
          "metadata": {
            "tags": []
          },
          "execution_count": 44
        }
      ]
    },
    {
      "cell_type": "code",
      "metadata": {
        "id": "jbuLKXT95a42"
      },
      "source": [
        "with open(\"answer2.txt\", \"w\") as fout:\n",
        "  fout.write(str(cvs.mean()))"
      ],
      "execution_count": 45,
      "outputs": []
    },
    {
      "cell_type": "markdown",
      "metadata": {
        "id": "3QjctZ2I5nVy"
      },
      "source": [
        "<a name = \"step5\"></a>\n",
        "# Изменим параметры BaggingClassifier\n",
        "таким образом, чтобы каждый базовый алгоритм обучался не на $d$ признаках, а на $\\sqrt d$ случайных признаков.\n"
      ]
    },
    {
      "cell_type": "code",
      "metadata": {
        "id": "_nvDGBKJ6Dif"
      },
      "source": [
        "n = data.data.shape[1]\n",
        "new_bagging = BaggingClassifier(dt_classifier, n_estimators=100, \\\n",
        "                                max_features=int(np.sqrt(data.data.shape[1])))"
      ],
      "execution_count": 46,
      "outputs": []
    },
    {
      "cell_type": "markdown",
      "metadata": {
        "id": "yAt7Cqza6AiR"
      },
      "source": [
        "Корень из числа признаков - часто используемая эвристика в задачах классификации, в задачах регрессии же часто берут число признаков, деленное на три. Но в общем случае ничто не мешает вам выбирать любое другое число случайных признаков.\n"
      ]
    },
    {
      "cell_type": "code",
      "metadata": {
        "colab": {
          "base_uri": "https://localhost:8080/"
        },
        "id": "Dh8WVr0i6BdR",
        "outputId": "01375b0a-b129-4d1d-a079-21d1e4e986d3"
      },
      "source": [
        "cvs_new_bagging = cross_val_score(new_bagging, X, y, cv = 10)\n",
        "cvs_new_bagging"
      ],
      "execution_count": 47,
      "outputs": [
        {
          "output_type": "execute_result",
          "data": {
            "text/plain": [
              "array([0.91666667, 0.96111111, 0.93888889, 0.87777778, 0.96111111,\n",
              "       0.96111111, 0.96111111, 0.98882682, 0.92178771, 0.89385475])"
            ]
          },
          "metadata": {
            "tags": []
          },
          "execution_count": 47
        }
      ]
    },
    {
      "cell_type": "code",
      "metadata": {
        "colab": {
          "base_uri": "https://localhost:8080/"
        },
        "id": "wViUir7I6nZB",
        "outputId": "66c9b4a4-b6f8-4da0-b5e0-81139fe30782"
      },
      "source": [
        "cvs_new_bagging.mean()"
      ],
      "execution_count": 48,
      "outputs": [
        {
          "output_type": "execute_result",
          "data": {
            "text/plain": [
              "0.9382247051520796"
            ]
          },
          "metadata": {
            "tags": []
          },
          "execution_count": 48
        }
      ]
    },
    {
      "cell_type": "code",
      "metadata": {
        "id": "BBrII5k46qaJ"
      },
      "source": [
        "with open(\"answer3.txt\", \"w\") as fout:\n",
        "  fout.write(str(cvs.mean()))"
      ],
      "execution_count": 49,
      "outputs": []
    },
    {
      "cell_type": "markdown",
      "metadata": {
        "id": "2VOwqWHL6zfB"
      },
      "source": [
        "<a name = \"step6\"></a>\n",
        "#Попробуем выбор случайных признаков при построении каждой вершины дерева.\n",
        "Сделать это несложно: нужно убрать выбор случайного подмножества признаков в BaggingClassifier и добавить его в DesicionTreeClassifier."
      ]
    },
    {
      "cell_type": "code",
      "metadata": {
        "colab": {
          "base_uri": "https://localhost:8080/"
        },
        "id": "_8yFxsKs7P0a",
        "outputId": "57bf76ee-4d4b-4423-ef28-e7bb26e6be48"
      },
      "source": [
        "mult_dt_classifier = DecisionTreeClassifier(max_features=int(np.sqrt(data.data.shape[1])))\n",
        "mult_bagging = BaggingClassifier(mult_dt_classifier, n_estimators=100)\n",
        "#измерение качества\n",
        "cvs_mult_bagging = cross_val_score(mult_bagging, X, y, cv = 10)\n",
        "cvs_mult_bagging"
      ],
      "execution_count": 50,
      "outputs": [
        {
          "output_type": "execute_result",
          "data": {
            "text/plain": [
              "array([0.91666667, 0.97222222, 0.93333333, 0.92777778, 0.96111111,\n",
              "       0.97222222, 0.97222222, 0.97206704, 0.93296089, 0.9273743 ])"
            ]
          },
          "metadata": {
            "tags": []
          },
          "execution_count": 50
        }
      ]
    },
    {
      "cell_type": "code",
      "metadata": {
        "colab": {
          "base_uri": "https://localhost:8080/"
        },
        "id": "vSZoC_CL7zAE",
        "outputId": "6d7f327e-fb15-43e3-9eb7-5dea2c4ac38f"
      },
      "source": [
        "cvs_mult_bagging.mean()"
      ],
      "execution_count": 51,
      "outputs": [
        {
          "output_type": "execute_result",
          "data": {
            "text/plain": [
              "0.9487957790192427"
            ]
          },
          "metadata": {
            "tags": []
          },
          "execution_count": 51
        }
      ]
    },
    {
      "cell_type": "code",
      "metadata": {
        "id": "1y3WfSrw762Q"
      },
      "source": [
        "with open(\"answer4.txt\", \"w\") as fout:\n",
        "  fout.write(str(cvs_mult_bagging.mean()))"
      ],
      "execution_count": 52,
      "outputs": []
    },
    {
      "cell_type": "markdown",
      "metadata": {
        "id": "5GEzkj168rdu"
      },
      "source": [
        "<a name = \"step7\"></a>\n",
        "# Сравним полученный результат с RandomForestClassifier из sklearn.ensemble"
      ]
    },
    {
      "cell_type": "code",
      "metadata": {
        "colab": {
          "base_uri": "https://localhost:8080/"
        },
        "id": "QOzp9OAF8YUx",
        "outputId": "e800fe26-c271-4054-f469-209b9f964284"
      },
      "source": [
        "rf_classifier = RandomForestClassifier()\n",
        "rf_bagging = BaggingClassifier(rf_classifier, n_estimators=100)\n",
        "#измерим качество\n",
        "cvs_rf = cross_val_score(rf_bagging, X, y, cv = 10)\n",
        "print(cvs_rf, '\\n') \n",
        "print(cvs_rf.mean())"
      ],
      "execution_count": 53,
      "outputs": [
        {
          "output_type": "stream",
          "text": [
            "[0.9        0.97222222 0.95       0.93333333 0.96111111 0.97222222\n",
            " 0.96666667 0.96089385 0.92178771 0.93854749] \n",
            "\n",
            "0.9476784605834885\n"
          ],
          "name": "stdout"
        }
      ]
    },
    {
      "cell_type": "markdown",
      "metadata": {
        "id": "O_e6ORayMaib"
      },
      "source": [
        "<a name = \"step8\"></a>\n",
        "\n",
        "#Ответ на задание 5.\n",
        "Нужно выбрать правильные утверждения из приведенных ниже"
      ]
    },
    {
      "cell_type": "markdown",
      "metadata": {
        "id": "92ay2_n-02z3"
      },
      "source": [
        "\n",
        "1) Случайный лес сильно переобучается с ростом количества деревьев\n",
        "\n",
        "2) При очень маленьком числе деревьев (5, 10, 15), случайный лес работает хуже, чем при большем числе деревьев\n",
        "\n",
        "3) С ростом количества деревьев в случайном лесе, в какой-то момент деревьев становится достаточно для высокого качества классификации, а затем качество существенно не меняется.\n",
        "\n",
        "4) При большом количестве признаков (для данного датасета - 40, 50) качество классификации становится хуже, чем при малом количестве признаков (5, 10). Это связано с тем, что чем меньше признаков выбирается в каждом узле, тем более различными получаются деревья (ведь деревья сильно неустойчивы к изменениям в обучающей выборке), и тем лучше работает их композиция.\n",
        "\n",
        "5) При большом количестве признаков (40, 50, 60) качество классификации лучше, чем при малом количестве признаков (5, 10). Это связано с тем, что чем больше признаков - тем больше информации об объектах, а значит алгоритм может делать прогнозы более точно.\n",
        "\n",
        "6) При небольшой максимальной глубине деревьев (5-6) качество работы случайного леса намного лучше, чем без ограничения глубины, т.к. деревья получаются не переобученными. С ростом глубины деревьев качество ухудшается.\n",
        "\n",
        "7) При небольшой максимальной глубине деревьев (5-6) качество работы случайного леса заметно хуже, чем без ограничений, т.к. деревья получаются недообученными. С ростом глубины качество сначала улучшается, а затем не меняется существенно, т.к. из-за усреднения прогнозов и различий деревьев их переобученность в бэггинге не сказывается на итоговом качестве (все деревья преобучены по-разному, и при усреднении они компенсируют переобученность друг-друга)."
      ]
    },
    {
      "cell_type": "code",
      "metadata": {
        "colab": {
          "base_uri": "https://localhost:8080/"
        },
        "id": "b8hMrZhHMzsQ",
        "outputId": "49ef8715-73bc-4f05-9712-b73dfa74610b"
      },
      "source": [
        "rf_classifier_1 = RandomForestClassifier(n_estimators=200)\n",
        "cross_val_score(rf_classifier_1, X, y, cv = 10).mean()"
      ],
      "execution_count": 61,
      "outputs": [
        {
          "output_type": "execute_result",
          "data": {
            "text/plain": [
              "0.9543575418994413"
            ]
          },
          "metadata": {
            "tags": []
          },
          "execution_count": 61
        }
      ]
    },
    {
      "cell_type": "markdown",
      "metadata": {
        "id": "fAgJynpLgzXF"
      },
      "source": [
        "~~1) Случайный лес сильно переобучается с ростом количества деревьев~~"
      ]
    },
    {
      "cell_type": "code",
      "metadata": {
        "colab": {
          "base_uri": "https://localhost:8080/"
        },
        "id": "EQs_El0keyeL",
        "outputId": "5eae3822-1cd1-45a7-a823-761f1147338c"
      },
      "source": [
        "rf_classifier_2 = RandomForestClassifier(n_estimators=10)\n",
        "cross_val_score(rf_classifier_2, X, y, cv = 10).mean()"
      ],
      "execution_count": 60,
      "outputs": [
        {
          "output_type": "execute_result",
          "data": {
            "text/plain": [
              "0.9137274984481689"
            ]
          },
          "metadata": {
            "tags": []
          },
          "execution_count": 60
        }
      ]
    },
    {
      "cell_type": "markdown",
      "metadata": {
        "id": "MExfefAThBD6"
      },
      "source": [
        "2) При очень маленьком числе деревьев (5, 10, 15), случайный лес работает хуже, чем при большем числе деревьев"
      ]
    },
    {
      "cell_type": "code",
      "metadata": {
        "colab": {
          "base_uri": "https://localhost:8080/"
        },
        "id": "rCegiaPRhAN2",
        "outputId": "d2d70371-0e3d-4945-cd72-83cfaf036ee9"
      },
      "source": [
        "rf_classifier_3_1 = RandomForestClassifier(n_estimators = 10)\n",
        "check_prev = cross_val_score(rf_classifier_3_1, X, y, cv = 10).mean()\n",
        "rf_classifier_3_1 = RandomForestClassifier(n_estimators = 20)\n",
        "check = cross_val_score(rf_classifier_3_1, X, y, cv = 10).mean()\n",
        "vareps = 0.01\n",
        "i = 30\n",
        "while (abs(check - check_prev) >= 0.0001):\n",
        "  rf_classifier_3_1 = RandomForestClassifier(n_estimators=i)\n",
        "  check_prev = check\n",
        "  check = cross_val_score(rf_classifier_3_1, X, y, cv = 10).mean()\n",
        "  i = i + 10\n",
        "print(i) "
      ],
      "execution_count": 65,
      "outputs": [
        {
          "output_type": "stream",
          "text": [
            "130\n"
          ],
          "name": "stdout"
        }
      ]
    },
    {
      "cell_type": "markdown",
      "metadata": {
        "id": "eLw7lkZiiiId"
      },
      "source": [
        "3) С ростом количества деревьев в случайном лесе, в какой-то момент деревьев становится достаточно для высокого качества классификации, а затем качество существенно не меняется."
      ]
    },
    {
      "cell_type": "code",
      "metadata": {
        "colab": {
          "base_uri": "https://localhost:8080/"
        },
        "id": "0c-_8mi8iy0T",
        "outputId": "1af3ddc5-3900-4b85-871c-e05245ace970"
      },
      "source": [
        "rf_classifier_4_1 = RandomForestClassifier(max_features=50)\n",
        "cross_val_score(rf_classifier_4_1, X, y, cv = 10).mean()"
      ],
      "execution_count": 66,
      "outputs": [
        {
          "output_type": "execute_result",
          "data": {
            "text/plain": [
              "0.9298541278708876"
            ]
          },
          "metadata": {
            "tags": []
          },
          "execution_count": 66
        }
      ]
    },
    {
      "cell_type": "code",
      "metadata": {
        "colab": {
          "base_uri": "https://localhost:8080/"
        },
        "id": "eAL-_-IBjb1K",
        "outputId": "f1184eaa-8253-4eb7-bbe4-f0691477e861"
      },
      "source": [
        "rf_classifier_4_2 = RandomForestClassifier(max_features=5)\n",
        "cross_val_score(rf_classifier_4_2, X, y, cv = 10).mean()"
      ],
      "execution_count": 67,
      "outputs": [
        {
          "output_type": "execute_result",
          "data": {
            "text/plain": [
              "0.9454748603351953"
            ]
          },
          "metadata": {
            "tags": []
          },
          "execution_count": 67
        }
      ]
    },
    {
      "cell_type": "markdown",
      "metadata": {
        "id": "Jtt9Vlrcj7oM"
      },
      "source": [
        "4) При большом количестве признаков (для данного датасета - 40, 50) качество классификации становится хуже, чем при малом количестве признаков (5, 10). Это связано с тем, что чем меньше признаков выбирается в каждом узле, тем более различными получаются деревья (ведь деревья сильно неустойчивы к изменениям в обучающей выборке), и тем лучше работает их композиция."
      ]
    },
    {
      "cell_type": "markdown",
      "metadata": {
        "id": "f4gjb08IkPOt"
      },
      "source": [
        "~~5) При большом количестве признаков (40, 50, 60) качество классификации лучше, чем при малом количестве признаков (5, 10). Это связано с тем, что чем больше признаков - тем больше информации об объектах, а значит алгоритм может делать прогнозы более точно.~~"
      ]
    },
    {
      "cell_type": "code",
      "metadata": {
        "colab": {
          "base_uri": "https://localhost:8080/"
        },
        "id": "vUwf2NczkYPo",
        "outputId": "c85f0136-8f44-4ec3-dc4c-b1ef710722eb"
      },
      "source": [
        "rf_classifier_6 = RandomForestClassifier(max_depth=5)\n",
        "cross_val_score(rf_classifier_6, X, y, cv = 10).mean()"
      ],
      "execution_count": 68,
      "outputs": [
        {
          "output_type": "execute_result",
          "data": {
            "text/plain": [
              "0.9070453134698944"
            ]
          },
          "metadata": {
            "tags": []
          },
          "execution_count": 68
        }
      ]
    },
    {
      "cell_type": "markdown",
      "metadata": {
        "id": "nZXvNRFgkmNM"
      },
      "source": [
        "~~6) При небольшой максимальной глубине деревьев (5-6) качество работы случайного леса намного лучше, чем без ограничения глубины, т.к. деревья получаются не переобученными. С ростом глубины деревьев качество ухудшается.~~"
      ]
    },
    {
      "cell_type": "markdown",
      "metadata": {
        "id": "De14zKrCko_M"
      },
      "source": [
        "7) При небольшой максимальной глубине деревьев (5-6) качество работы случайного леса заметно хуже, чем без ограничений, т.к. деревья получаются недообученными. С ростом глубины качество сначала улучшается, а затем не меняется существенно, т.к. из-за усреднения прогнозов и различий деревьев их переобученность в бэггинге не сказывается на итоговом качестве (все деревья преобучены по-разному, и при усреднении они компенсируют переобученность друг-друга)."
      ]
    },
    {
      "cell_type": "code",
      "metadata": {
        "id": "1bv7d7nqkr5p"
      },
      "source": [
        "with open(\"answer5.txt\", \"w\") as fout:\n",
        "  fout.write(str(2) + str(3) + str(4) + str(7))"
      ],
      "execution_count": 69,
      "outputs": []
    }
  ]
}