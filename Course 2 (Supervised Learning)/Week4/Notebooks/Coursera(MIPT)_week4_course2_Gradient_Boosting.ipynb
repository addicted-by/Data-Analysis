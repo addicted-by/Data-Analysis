{
  "nbformat": 4,
  "nbformat_minor": 0,
  "metadata": {
    "kernelspec": {
      "display_name": "Python [default]",
      "language": "python",
      "name": "python3"
    },
    "language_info": {
      "codemirror_mode": {
        "name": "ipython",
        "version": 3
      },
      "file_extension": ".py",
      "mimetype": "text/x-python",
      "name": "python",
      "nbconvert_exporter": "python",
      "pygments_lexer": "ipython3",
      "version": "3.4.5"
    },
    "colab": {
      "name": "Gradient Boosting.ipynb",
      "provenance": [],
      "toc_visible": true
    }
  },
  "cells": [
    {
      "cell_type": "markdown",
      "metadata": {
        "id": "ofsN_PRfoAv1"
      },
      "source": [
        "# Градиентный бустинг своими руками\n",
        "\n",
        "**Внимание:** в тексте задания произошли изменения - поменялось число деревьев (теперь 50), правило изменения величины шага в задании 3 и добавился параметр `random_state` у решающего дерева. Правильные ответы не поменялись, но теперь их проще получить. Также исправлена опечатка в функции `gbm_predict`.\n",
        "\n",
        "В этом задании будет использоваться датасет `boston` из `sklearn.datasets`. Оставьте последние 25% объектов для контроля качества, разделив `X` и `y` на `X_train`, `y_train` и `X_test`, `y_test`.\n",
        "\n",
        "Целью задания будет реализовать простой вариант градиентного бустинга над регрессионными деревьями для случая квадратичной функции потерь."
      ]
    },
    {
      "cell_type": "code",
      "metadata": {
        "collapsed": true,
        "id": "SODZzn9MoAv8"
      },
      "source": [
        "%matplotlib inline \n",
        "\n",
        "import numpy as np\n",
        "import matplotlib.pyplot as plt\n",
        "import seaborn as sns\n",
        "\n",
        "from sklearn import datasets\n",
        "from sklearn.model_selection import train_test_split\n",
        "from sklearn.tree import DecisionTreeRegressor\n",
        "from sklearn import metrics\n",
        "from sklearn.linear_model import LinearRegression "
      ],
      "execution_count": 2,
      "outputs": []
    },
    {
      "cell_type": "code",
      "metadata": {
        "collapsed": true,
        "colab": {
          "base_uri": "https://localhost:8080/"
        },
        "id": "PGLGplXLoAv9",
        "outputId": "f4dc74ff-e06b-44e8-f441-a92e184be6d2"
      },
      "source": [
        "data = datasets.load_boston()\n",
        "print(data.DESCR)\n",
        "X_train, X_test = np.split(data.data, [int(0.75 * data.data.shape[0]) + 1])\n",
        "y_train, y_test = np.split(data.target, [int(0.75 * data.data.shape[0]) + 1])"
      ],
      "execution_count": 7,
      "outputs": [
        {
          "output_type": "stream",
          "text": [
            ".. _boston_dataset:\n",
            "\n",
            "Boston house prices dataset\n",
            "---------------------------\n",
            "\n",
            "**Data Set Characteristics:**  \n",
            "\n",
            "    :Number of Instances: 506 \n",
            "\n",
            "    :Number of Attributes: 13 numeric/categorical predictive. Median Value (attribute 14) is usually the target.\n",
            "\n",
            "    :Attribute Information (in order):\n",
            "        - CRIM     per capita crime rate by town\n",
            "        - ZN       proportion of residential land zoned for lots over 25,000 sq.ft.\n",
            "        - INDUS    proportion of non-retail business acres per town\n",
            "        - CHAS     Charles River dummy variable (= 1 if tract bounds river; 0 otherwise)\n",
            "        - NOX      nitric oxides concentration (parts per 10 million)\n",
            "        - RM       average number of rooms per dwelling\n",
            "        - AGE      proportion of owner-occupied units built prior to 1940\n",
            "        - DIS      weighted distances to five Boston employment centres\n",
            "        - RAD      index of accessibility to radial highways\n",
            "        - TAX      full-value property-tax rate per $10,000\n",
            "        - PTRATIO  pupil-teacher ratio by town\n",
            "        - B        1000(Bk - 0.63)^2 where Bk is the proportion of blacks by town\n",
            "        - LSTAT    % lower status of the population\n",
            "        - MEDV     Median value of owner-occupied homes in $1000's\n",
            "\n",
            "    :Missing Attribute Values: None\n",
            "\n",
            "    :Creator: Harrison, D. and Rubinfeld, D.L.\n",
            "\n",
            "This is a copy of UCI ML housing dataset.\n",
            "https://archive.ics.uci.edu/ml/machine-learning-databases/housing/\n",
            "\n",
            "\n",
            "This dataset was taken from the StatLib library which is maintained at Carnegie Mellon University.\n",
            "\n",
            "The Boston house-price data of Harrison, D. and Rubinfeld, D.L. 'Hedonic\n",
            "prices and the demand for clean air', J. Environ. Economics & Management,\n",
            "vol.5, 81-102, 1978.   Used in Belsley, Kuh & Welsch, 'Regression diagnostics\n",
            "...', Wiley, 1980.   N.B. Various transformations are used in the table on\n",
            "pages 244-261 of the latter.\n",
            "\n",
            "The Boston house-price data has been used in many machine learning papers that address regression\n",
            "problems.   \n",
            "     \n",
            ".. topic:: References\n",
            "\n",
            "   - Belsley, Kuh & Welsch, 'Regression diagnostics: Identifying Influential Data and Sources of Collinearity', Wiley, 1980. 244-261.\n",
            "   - Quinlan,R. (1993). Combining Instance-Based and Model-Based Learning. In Proceedings on the Tenth International Conference of Machine Learning, 236-243, University of Massachusetts, Amherst. Morgan Kaufmann.\n",
            "\n"
          ],
          "name": "stdout"
        }
      ]
    },
    {
      "cell_type": "markdown",
      "metadata": {
        "id": "K4ezhvwZoAv8"
      },
      "source": [
        "## Задание 1\n",
        "\n",
        "Как вы уже знаете из лекций, **бустинг** - это метод построения композиций базовых алгоритмов с помощью последовательного добавления к текущей композиции нового алгоритма с некоторым коэффициентом. \n",
        "\n",
        "Градиентный бустинг обучает каждый новый алгоритм так, чтобы он приближал антиградиент ошибки по ответам композиции на обучающей выборке. Аналогично минимизации функций методом градиентного спуска, в градиентном бустинге мы подправляем композицию, изменяя алгоритм в направлении антиградиента ошибки.\n",
        "\n",
        "Воспользуйтесь формулой из лекций, задающей ответы на обучающей выборке, на которые нужно обучать новый алгоритм (фактически это лишь чуть более подробно расписанный градиент от ошибки), и получите частный ее случай, если функция потерь `L` - квадрат отклонения ответа композиции `a(x)` от правильного ответа `y` на данном `x`.\n",
        "\n",
        "Если вы давно не считали производную самостоятельно, вам поможет таблица производных элементарных функций (которую несложно найти в интернете) и правило дифференцирования сложной функции. После дифференцирования квадрата у вас возникнет множитель 2 — т.к. нам все равно предстоит выбирать коэффициент, с которым будет добавлен новый базовый алгоритм, проигноируйте этот множитель при дальнейшем построении алгоритма."
      ]
    },
    {
      "cell_type": "code",
      "metadata": {
        "id": "KARygbBgvwAR"
      },
      "source": [
        "def der(y_train, z):\n",
        "  return (y_train - z)"
      ],
      "execution_count": 8,
      "outputs": []
    },
    {
      "cell_type": "markdown",
      "metadata": {
        "id": "i5qTwrVYoAv9"
      },
      "source": [
        "## Задание 2\n",
        "\n",
        "Заведите массив для объектов `DecisionTreeRegressor` (будем их использовать в качестве базовых алгоритмов) и для вещественных чисел (это будут коэффициенты перед базовыми алгоритмами). \n",
        "\n",
        "В цикле от обучите последовательно 50 решающих деревьев с параметрами `max_depth=5` и `random_state=42` (остальные параметры - по умолчанию). В бустинге зачастую используются сотни и тысячи деревьев, но мы ограничимся 50, чтобы алгоритм работал быстрее, и его было проще отлаживать (т.к. цель задания разобраться, как работает метод). Каждое дерево должно обучаться на одном и том же множестве объектов, но ответы, которые учится прогнозировать дерево, будут меняться в соответствие с полученным в задании 1 правилом. \n",
        "\n",
        "Попробуйте для начала всегда брать коэффициент равным 0.9. Обычно оправдано выбирать коэффициент значительно меньшим - порядка 0.05 или 0.1, но т.к. в нашем учебном примере на стандартном датасете будет всего 50 деревьев, возьмем для начала шаг побольше.\n",
        "\n",
        "В процессе реализации обучения вам потребуется функция, которая будет вычислять прогноз построенной на данный момент композиции деревьев на выборке `X`:\n",
        "\n",
        "```\n",
        "def gbm_predict(X):\n",
        "    return [sum([coeff * algo.predict([x])[0] for algo, coeff in zip(base_algorithms_list, coefficients_list)]) for x in X]\n",
        "(считаем, что base_algorithms_list - список с базовыми алгоритмами, coefficients_list - список с коэффициентами перед алгоритмами)\n",
        "```\n",
        "\n",
        "Эта же функция поможет вам получить прогноз на контрольной выборке и оценить качество работы вашего алгоритма с помощью `mean_squared_error` в `sklearn.metrics`. \n",
        "\n",
        "Возведите результат в степень 0.5, чтобы получить `RMSE`. Полученное значение `RMSE` — **ответ в пункте 2**."
      ]
    },
    {
      "cell_type": "code",
      "metadata": {
        "collapsed": true,
        "id": "IzOgWIZaoAv-"
      },
      "source": [
        "def gbm_predict(X):\n",
        "    return [sum([coeff * algo.predict([x])[0] for algo, \\\n",
        "                 coeff in zip(alg, coef)]) for x in X]"
      ],
      "execution_count": 14,
      "outputs": []
    },
    {
      "cell_type": "code",
      "metadata": {
        "id": "tXC4-o5RwT7p"
      },
      "source": [
        "alg = []\n",
        "coef = []\n",
        "\n",
        "z = np.zeros((y_train.shape))\n",
        "for _ in range(50):\n",
        "  coef.append(0.9)\n",
        "  reg_i = DecisionTreeRegressor(max_depth=5, random_state=42)\n",
        "  reg_i.fit(X_train, der(y_train, z))\n",
        "  alg.append(reg_i)\n",
        "  z = gbm_predict(X_train)\n",
        "alg_predict = gbm_predict(X_test)\n",
        "alg_rmse = np.sqrt(metrics.mean_squared_error(y_test, alg_predict))"
      ],
      "execution_count": 18,
      "outputs": []
    },
    {
      "cell_type": "code",
      "metadata": {
        "colab": {
          "base_uri": "https://localhost:8080/"
        },
        "id": "2dbSEyCTxu8-",
        "outputId": "ca24af72-9175-4957-cc70-216f6dd3f031"
      },
      "source": [
        "alg_rmse"
      ],
      "execution_count": 19,
      "outputs": [
        {
          "output_type": "execute_result",
          "data": {
            "text/plain": [
              "5.4551393760319415"
            ]
          },
          "metadata": {
            "tags": []
          },
          "execution_count": 19
        }
      ]
    },
    {
      "cell_type": "code",
      "metadata": {
        "id": "TpuyzXSixxH8"
      },
      "source": [
        "with open(\"answer2.txt\", \"w\") as fout:\n",
        "  fout.write(str(alg_rmse))"
      ],
      "execution_count": 20,
      "outputs": []
    },
    {
      "cell_type": "markdown",
      "metadata": {
        "id": "4Cl3LEI5oAv-"
      },
      "source": [
        "## Задание 3\n",
        "\n",
        "Вас может также беспокоить, что двигаясь с постоянным шагом, вблизи минимума ошибки ответы на обучающей выборке меняются слишком резко, перескакивая через минимум. \n",
        "\n",
        "Попробуйте уменьшать вес перед каждым алгоритмом с каждой следующей итерацией по формуле `0.9 / (1.0 + i)`, где `i` - номер итерации (от 0 до 49). Используйте качество работы алгоритма как **ответ в пункте 3**. \n",
        "\n",
        "В реальности часто применяется следующая стратегия выбора шага: как только выбран алгоритм, подберем коэффициент перед ним численным методом оптимизации таким образом, чтобы отклонение от правильных ответов было минимальным. Мы не будем предлагать вам реализовать это для выполнения задания, но рекомендуем попробовать разобраться с такой стратегией и реализовать ее при случае для себя."
      ]
    },
    {
      "cell_type": "code",
      "metadata": {
        "collapsed": true,
        "id": "3_wSL_looAv-"
      },
      "source": [
        "alg = []\n",
        "coef = []\n",
        "\n",
        "z = np.zeros((y_train.shape))\n",
        "for i in range(50):\n",
        "  coef.append(0.9 / (1.0 + i))\n",
        "  reg_i = DecisionTreeRegressor(max_depth=5, random_state=42)\n",
        "  reg_i.fit(X_train, der(y_train, z))\n",
        "  alg.append(reg_i)\n",
        "  z = gbm_predict(X_train)\n",
        "alg_predict = gbm_predict(X_test)\n",
        "alg_rmse = np.sqrt(metrics.mean_squared_error(y_test, alg_predict))"
      ],
      "execution_count": 21,
      "outputs": []
    },
    {
      "cell_type": "code",
      "metadata": {
        "colab": {
          "base_uri": "https://localhost:8080/"
        },
        "id": "a790y8mAycqU",
        "outputId": "ddb00288-eb35-4d36-c2e5-fa8c0aabb230"
      },
      "source": [
        "alg_rmse"
      ],
      "execution_count": 22,
      "outputs": [
        {
          "output_type": "execute_result",
          "data": {
            "text/plain": [
              "5.241033584774468"
            ]
          },
          "metadata": {
            "tags": []
          },
          "execution_count": 22
        }
      ]
    },
    {
      "cell_type": "code",
      "metadata": {
        "id": "G_-8QbIbygoP"
      },
      "source": [
        "with open(\"answer3.txt\", \"w\") as fout:\n",
        "  fout.write(str(alg_rmse))"
      ],
      "execution_count": 24,
      "outputs": []
    },
    {
      "cell_type": "markdown",
      "metadata": {
        "id": "7uEd9rk6oAv_"
      },
      "source": [
        "## Задание 4\n",
        "\n",
        "Реализованный вами метод - градиентный бустинг над деревьями - очень популярен в машинном обучении. Он представлен как в самой библиотеке `sklearn`, так и в сторонней библиотеке `XGBoost`, которая имеет свой питоновский интерфейс. На практике `XGBoost` работает заметно лучше `GradientBoostingRegressor` из `sklearn`, но для этого задания вы можете использовать любую реализацию. \n",
        "\n",
        "Исследуйте, переобучается ли градиентный бустинг с ростом числа итераций (и подумайте, почему), а также с ростом глубины деревьев. На основе наблюдений выпишите через пробел номера правильных из приведенных ниже утверждений в порядке возрастания номера (это будет **ответ в п.4**):\n",
        "\n",
        "    1. С увеличением числа деревьев, начиная с некоторого момента, качество работы градиентного бустинга не меняется существенно.\n",
        "\n",
        "    2. С увеличением числа деревьев, начиная с некоторого момента, градиентный бустинг начинает переобучаться.\n",
        "\n",
        "    3. С ростом глубины деревьев, начиная с некоторого момента, качество работы градиентного бустинга на тестовой выборке начинает ухудшаться.\n",
        "\n",
        "    4. С ростом глубины деревьев, начиная с некоторого момента, качество работы градиентного бустинга перестает существенно изменяться"
      ]
    },
    {
      "cell_type": "code",
      "metadata": {
        "collapsed": true,
        "colab": {
          "base_uri": "https://localhost:8080/"
        },
        "id": "SHkdLw15oAv_",
        "outputId": "33d7aa61-8583-4786-d5d6-83be05d2c7ec"
      },
      "source": [
        "alg = []\n",
        "coef = []\n",
        "\n",
        "z = np.zeros((y_train.shape))\n",
        "for i in range(150):\n",
        "  coef.append(0.9 / (1.0 + i))\n",
        "  reg_i = DecisionTreeRegressor(max_depth=5, random_state=42)\n",
        "  reg_i.fit(X_train, der(y_train, z))\n",
        "  alg.append(reg_i)\n",
        "  z = gbm_predict(X_train)\n",
        "alg_predict = gbm_predict(X_test)\n",
        "alg_rmse = np.sqrt(metrics.mean_squared_error(y_test, alg_predict))\n",
        "alg_rmse"
      ],
      "execution_count": 25,
      "outputs": [
        {
          "output_type": "execute_result",
          "data": {
            "text/plain": [
              "5.295945656128166"
            ]
          },
          "metadata": {
            "tags": []
          },
          "execution_count": 25
        }
      ]
    },
    {
      "cell_type": "code",
      "metadata": {
        "colab": {
          "base_uri": "https://localhost:8080/"
        },
        "id": "2_h5HT1O1aPZ",
        "outputId": "f32c9754-5784-4b5c-d30a-f45a2239dee9"
      },
      "source": [
        "alg = []\n",
        "coef = []\n",
        "\n",
        "z = np.zeros((y_train.shape))\n",
        "for i in range(250):\n",
        "  coef.append(0.9 / (1.0 + i))\n",
        "  reg_i = DecisionTreeRegressor(max_depth=5, random_state=42)\n",
        "  reg_i.fit(X_train, der(y_train, z))\n",
        "  alg.append(reg_i)\n",
        "  z = gbm_predict(X_train)\n",
        "alg_predict = gbm_predict(X_test)\n",
        "alg_rmse = np.sqrt(metrics.mean_squared_error(y_test, alg_predict))\n",
        "alg_rmse"
      ],
      "execution_count": 32,
      "outputs": [
        {
          "output_type": "execute_result",
          "data": {
            "text/plain": [
              "5.294779731501156"
            ]
          },
          "metadata": {
            "tags": []
          },
          "execution_count": 32
        }
      ]
    },
    {
      "cell_type": "markdown",
      "metadata": {
        "id": "dZ-eertooAwA"
      },
      "source": [
        "## Задание 5\n",
        "\n",
        "Сравните получаемое с помощью градиентного бустинга качество с качеством работы линейной регрессии. \n",
        "\n",
        "Для этого обучите `LinearRegression` из `sklearn.linear_model` (с параметрами по умолчанию) на обучающей выборке и оцените для прогнозов полученного алгоритма на тестовой выборке `RMSE`. Полученное качество - ответ в **пункте 5**. \n",
        "\n",
        "В данном примере качество работы простой модели должно было оказаться хуже, но не стоит забывать, что так бывает не всегда. В заданиях к этому курсу вы еще встретите пример обратной ситуации."
      ]
    },
    {
      "cell_type": "code",
      "metadata": {
        "collapsed": true,
        "colab": {
          "base_uri": "https://localhost:8080/"
        },
        "id": "dY-VVCqEoAwA",
        "outputId": "3fb0d46b-fa63-4718-c01f-ed4ceeb9d019"
      },
      "source": [
        "linear_regression = LinearRegression()\n",
        "linear_regression.fit(X_train, y_train)\n",
        "\n",
        "alg_predict = linear_regression.predict(X_test)\n",
        "alg_rmse = np.sqrt(metrics.mean_squared_error(y_test, alg_predict))\n",
        "alg_rmse"
      ],
      "execution_count": 30,
      "outputs": [
        {
          "output_type": "execute_result",
          "data": {
            "text/plain": [
              "7.819688142087423"
            ]
          },
          "metadata": {
            "tags": []
          },
          "execution_count": 30
        }
      ]
    },
    {
      "cell_type": "code",
      "metadata": {
        "id": "QR6g7lm22FS7"
      },
      "source": [
        "with open(\"answer5.txt\", \"w\") as fout:\n",
        "  fout.write(str(alg_rmse))"
      ],
      "execution_count": 31,
      "outputs": []
    }
  ]
}